{
 "cells": [
  {
   "cell_type": "code",
   "execution_count": 1,
   "id": "85588eff-3dfe-486c-b1c3-43a0a2f9f955",
   "metadata": {},
   "outputs": [],
   "source": [
    "# Q1. What is Flask Framework? What are the advantages of Flask Framework?\n",
    "\n",
    "# Ans = Flask is a popular micro web framework for building web applications in Python. It is designed to be lightweight, flexible, and easy to use, making it a popular choice for developers who want to quickly build simple web applications or APIs.\n",
    "\n",
    "# Some of the advantages of using Flask include:\n",
    "\n",
    "# Lightweight and Flexible: Flask is a lightweight framework that does not require any particular tools or libraries. It allows developers to choose and integrate any tool they want.\n",
    "\n",
    "# Easy to Use: Flask is easy to learn and use, especially for developers who are familiar with Python.\n",
    "\n",
    "# Extensible: Flask is highly extensible and customizable. Developers can add functionality through extensions or build their own custom extensions.\n",
    "\n",
    "# Jinja2 Templates: Flask uses Jinja2 as its default template engine, making it easy to create dynamic web pages.\n",
    "\n",
    "# Built-in Development Server: Flask comes with a built-in development server, which makes it easy to develop and test applications locall"
   ]
  },
  {
   "cell_type": "code",
   "execution_count": null,
   "id": "df927cae-2fb9-4622-ba7d-5f8d0d6a808c",
   "metadata": {},
   "outputs": [],
   "source": [
    "# Q2. Create a simple Flask application to display ‘Hello World!!’. Attach the screenshot of the output in\n",
    "# Jupyter Notebook.\n",
    "\n",
    "# from flask import Flask\n",
    "\n",
    "# app = Flask(__name__)\n",
    "\n",
    "# @app.route(\"/\")\n",
    "# def hello_world():\n",
    "#     return \"<h1>Hello, World!</h1>\"\n",
    "\n",
    "# if __name__==\"__main__\":\n",
    "#     app.run(host=\"0.0.0.0\")\n",
    "    \n",
    "    \n",
    "\n"
   ]
  },
  {
   "cell_type": "code",
   "execution_count": null,
   "id": "68278807-1fb2-43f8-b7e3-c279214ba452",
   "metadata": {},
   "outputs": [],
   "source": [
    "# Q3. What is App routing in Flask? Why do we use app routes?\n",
    "\n",
    "# In Flask, routing refers to mapping URLs to functions. When a user visits a specific URL on a Flask application, the corresponding function is called and the output of the function is returned as the response to the user's request.\n",
    "\n",
    "# In Flask, we use the @app.route() decorator to define routes for our application. The decorator takes a URL pattern as an argument and associates it with the function that follows. For example, the following code defines a route for the URL /hello:\n",
    "\n",
    "# We use app routes in Flask to create a structure for our web application, by defining the URLs that our users can visit and the functions that handle those requests. This makes it easy to organize the code for our application and create a user-friendly experience for our users.\n"
   ]
  },
  {
   "cell_type": "code",
   "execution_count": null,
   "id": "b67f919b-dd5a-48ee-b673-ed1b7875b494",
   "metadata": {},
   "outputs": [],
   "source": [
    "# Q4. Create a “/welcome” route to display the welcome message “Welcome to ABC Corporation” and a “/”\n",
    "# route to show the following details:\n",
    "# Company Name: ABC Corporation\n",
    "# Location: India\n",
    "# Contact Detail: 999-999-9999\n",
    "\n",
    "\n",
    "# from flask import Flask\n",
    "\n",
    "# app = Flask(_name_)\n",
    "\n",
    "# @app.route('/welcome')\n",
    "# def welcome():\n",
    "#     return 'Welcome to ABC Corporation'\n",
    "\n",
    "# @app.route('/')\n",
    "# def company_details():\n",
    "#     return 'Company Name: ABC Corporation<br>Location: India<br>Contact Detail: 999-999-9999'\n",
    "\n",
    "# if _name_ == '_main_':\n",
    "#     app.run()\n"
   ]
  },
  {
   "cell_type": "code",
   "execution_count": null,
   "id": "79af4828-585f-40b7-9da4-f07c38a9cd18",
   "metadata": {},
   "outputs": [],
   "source": [
    "# Q5. What function is used in Flask for URL Building? Write a Python code to demonstrate the working of the\n",
    "# url_for() function.\n",
    "\n",
    "# In Flask, we can use the url_for() function to dynamically build URLs for our application. The url_for() function takes the name of the function as the first argument, and any number of keyword arguments that correspond to the URL parameters.\n",
    "\n",
    "# Here is an example code snippet that demonstrates how to use the url_for() function in Flask:\n",
    "\n",
    "# python\n",
    "# Copy code\n",
    "# from flask import Flask, url_for\n",
    "\n",
    "# app = Flask(_name_)\n",
    "\n",
    "# @app.route('/users/<int:user_id>')\n",
    "# def show_user_profile(user_id):\n",
    "#     # logic to retrieve user profile\n",
    "#     return f'This is the profile page for user {user_id}'\n",
    "\n",
    "# @app.route('/')\n",
    "# def index():\n",
    "#     # generate a URL for the show_user_profile() function\n",
    "#     user_url = url_for('show_user_profile', user_id=123)\n",
    "    \n",
    "#     # return a link to the user profile page\n",
    "#     return f'Visit the user profile page: <a href=\"{user_url}\">{user_url}</a>'\n",
    "\n",
    "# if _name_ == '_main_':\n",
    "#     app.run()\n"
   ]
  }
 ],
 "metadata": {
  "kernelspec": {
   "display_name": "Python 3 (ipykernel)",
   "language": "python",
   "name": "python3"
  },
  "language_info": {
   "codemirror_mode": {
    "name": "ipython",
    "version": 3
   },
   "file_extension": ".py",
   "mimetype": "text/x-python",
   "name": "python",
   "nbconvert_exporter": "python",
   "pygments_lexer": "ipython3",
   "version": "3.10.8"
  }
 },
 "nbformat": 4,
 "nbformat_minor": 5
}
